{
 "cells": [
  {
   "cell_type": "code",
   "execution_count": 1,
   "metadata": {
    "collapsed": false,
    "scrolled": true
   },
   "outputs": [
    {
     "name": "stdout",
     "output_type": "stream",
     "text": [
      "<class 'pandas.core.frame.DataFrame'>\n",
      "Int64Index: 1000000 entries, 0 to 999999\n",
      "Data columns (total 24 columns):\n",
      "date_time                    1000000 non-null object\n",
      "site_name                    1000000 non-null int64\n",
      "posa_continent               1000000 non-null int64\n",
      "user_location_country        1000000 non-null int64\n",
      "user_location_region         1000000 non-null int64\n",
      "user_location_city           1000000 non-null int64\n",
      "orig_destination_distance    629753 non-null float64\n",
      "user_id                      1000000 non-null int64\n",
      "is_mobile                    1000000 non-null int64\n",
      "is_package                   1000000 non-null int64\n",
      "channel                      1000000 non-null int64\n",
      "srch_ci                      999002 non-null object\n",
      "srch_co                      999001 non-null object\n",
      "srch_adults_cnt              1000000 non-null int64\n",
      "srch_children_cnt            1000000 non-null int64\n",
      "srch_rm_cnt                  1000000 non-null int64\n",
      "srch_destination_id          1000000 non-null int64\n",
      "srch_destination_type_id     1000000 non-null int64\n",
      "is_booking                   1000000 non-null int64\n",
      "cnt                          1000000 non-null int64\n",
      "hotel_continent              1000000 non-null int64\n",
      "hotel_country                1000000 non-null int64\n",
      "hotel_market                 1000000 non-null int64\n",
      "hotel_cluster                1000000 non-null int64\n",
      "dtypes: float64(1), int64(20), object(3)\n",
      "memory usage: 190.7+ MB\n"
     ]
    }
   ],
   "source": [
    "import numpy as np\n",
    "import pandas as pd\n",
    "sampletrain = pd.read_csv('C:/Users/vanwu/Desktop/INFO 7390 ADS/Expedia data set/train.csv', header = 0, sep = ',', nrows = 1000000)\n",
    "sampletrain.info()"
   ]
  },
  {
   "cell_type": "code",
   "execution_count": 9,
   "metadata": {
    "collapsed": false
   },
   "outputs": [],
   "source": [
    "import matplotlib.pyplot as plt\n",
    "import seaborn as sns\n",
    "\n",
    "sns.set_style('whitegrid')\n",
    "sns.set(color_codes=True)\n",
    "\n",
    "def string_to_datetime(s, fmt='%Y-%m-%d'):\n",
    "    if s != s:\n",
    "        return np.nan\n",
    "    year, month, day = s.split('-')\n",
    "    try:  \n",
    "        d = pd.datetime(int(year), int(month), int(day))\n",
    "    except ValueError:\n",
    "        d = pd.datetime(2017, 1, 1)\n",
    "    d = min([max([d, pd.datetime(2013, 1, 1)]), pd.datetime(2017, 1, 1)])\n",
    "    return d"
   ]
  },
  {
   "cell_type": "code",
   "execution_count": 10,
   "metadata": {
    "collapsed": false
   },
   "outputs": [
    {
     "name": "stdout",
     "output_type": "stream",
     "text": [
      "<class 'pandas.core.frame.DataFrame'>\n",
      "Int64Index: 37670293 entries, 0 to 37670292\n",
      "Data columns (total 4 columns):\n",
      "date_time     datetime64[ns]\n",
      "srch_ci       datetime64[ns]\n",
      "srch_co       datetime64[ns]\n",
      "is_booking    int64\n",
      "dtypes: datetime64[ns](3), int64(1)\n",
      "memory usage: 1.4 GB\n"
     ]
    }
   ],
   "source": [
    "import numpy as np\n",
    "import pandas as pd\n",
    "train = pd.read_csv(\"C:/Users/vanwu/Desktop/INFO 7390 ADS/Expedia data set/train.csv\", usecols=['date_time', 'is_booking', 'srch_ci', 'srch_co'],\n",
    "                   parse_dates=['date_time'])\n",
    "train['srch_ci'] = train['srch_ci'].apply(string_to_datetime)\n",
    "train['srch_co'] = train['srch_co'].apply(string_to_datetime)\n",
    "train.info()\n",
    "train_bookings = train[train['is_booking'] == 1].drop('is_booking', axis=1)\n",
    "train_clicks = train[train['is_booking'] == 0].drop('is_booking', axis=1)"
   ]
  },
  {
   "cell_type": "code",
   "execution_count": 15,
   "metadata": {
    "collapsed": false
   },
   "outputs": [
    {
     "name": "stdout",
     "output_type": "stream",
     "text": [
      "<class 'pandas.core.frame.DataFrame'>\n",
      "Int64Index: 2528243 entries, 0 to 2528242\n",
      "Data columns (total 3 columns):\n",
      "date_time    datetime64[ns]\n",
      "srch_ci      datetime64[ns]\n",
      "srch_co      datetime64[ns]\n",
      "dtypes: datetime64[ns](3)\n",
      "memory usage: 77.2 MB\n"
     ]
    }
   ],
   "source": [
    "del train\n",
    "test_bookings = pd.read_csv(\"C:/Users/vanwu/Desktop/INFO 7390 ADS/Expedia data set/test.csv\", usecols=['date_time', 'srch_ci', 'srch_co'],\n",
    "                   parse_dates=['date_time'])\n",
    "test_bookings['srch_ci'] = test_bookings['srch_ci'].apply(string_to_datetime)\n",
    "test_bookings['srch_co'] = test_bookings['srch_co'].apply(string_to_datetime)\n",
    "test_bookings.info()"
   ]
  },
  {
   "cell_type": "code",
   "execution_count": 16,
   "metadata": {
    "collapsed": true
   },
   "outputs": [],
   "source": [
    "f = plt.figure()\n",
    "plt.hist(train_bookings['date_time'].values, bins=100, alpha=0.5, normed=True, label='train bookings')\n",
    "plt.hist(test_bookings['date_time'].values, bins=50, alpha=0.5, normed=True, label='test bookings')\n",
    "plt.hist(train_clicks['date_time'].values, bins=100, alpha=0.5, normed=True, label='train clicks')\n",
    "plt.title('Datetime distribution')\n",
    "plt.legend(loc='best')\n",
    "f.savefig('Time.png', dpi=300)\n",
    "plt.show()"
   ]
  },
  {
   "cell_type": "code",
   "execution_count": 17,
   "metadata": {
    "collapsed": true
   },
   "outputs": [],
   "source": [
    "f = plt.figure()\n",
    "plt.hist(train_bookings['srch_ci'].values, bins=100, alpha=0.5, normed=True, label='train bookings')\n",
    "plt.hist(test_bookings['srch_ci'].dropna().values, bins=50, alpha=0.5, normed=True, label='test bookings')\n",
    "plt.hist(train_clicks['srch_ci'].dropna().values, bins=100, alpha=0.5, normed=True, label='train clicks')\n",
    "plt.title('Checkin time')\n",
    "plt.legend(loc='best')\n",
    "f.savefig('CheckinTime.png', dpi=300)\n",
    "plt.show()"
   ]
  },
  {
   "cell_type": "code",
   "execution_count": 2,
   "metadata": {
    "collapsed": false
   },
   "outputs": [],
   "source": [
    "import numpy as np\n",
    "import pandas as pd\n",
    "def getClassNumber(i):\n",
    "    if len(i) == 35:\n",
    "        return i[-3:-1]\n",
    "    else:\n",
    "        return i[-2:-1]\n",
    "    return d"
   ]
  },
  {
   "cell_type": "code",
   "execution_count": 3,
   "metadata": {
    "collapsed": false
   },
   "outputs": [
    {
     "name": "stdout",
     "output_type": "stream",
     "text": [
      "   site_name  user_location_city  orig_destination_distance  user_id  \\\n",
      "0          2                5938                   456.2658   295241   \n",
      "1         13               26167                 11343.1001    34267   \n",
      "2          2               19207                  1265.1455   566945   \n",
      "3          2               48862                   539.6487   514953   \n",
      "4          2               45689                  2935.2511   346209   \n",
      "\n",
      "   is_mobile  is_package  channel  srch_adults_cnt  srch_children_cnt  \\\n",
      "0          0           0        5                2                  2   \n",
      "1          0           0        9                2                  0   \n",
      "2          1           1        9                0                  0   \n",
      "3          0           0        9                4                  1   \n",
      "4          0           1        1                2                  0   \n",
      "\n",
      "   srch_rm_cnt       ...        Scored Probabilities for Class \"95\"  \\\n",
      "0            1       ...                                   0.014325   \n",
      "1            1       ...                                   0.019747   \n",
      "2            1       ...                                   0.016061   \n",
      "3            4       ...                                   0.020329   \n",
      "4            1       ...                                   0.016922   \n",
      "\n",
      "   Scored Probabilities for Class \"96\"  Scored Probabilities for Class \"97\"  \\\n",
      "0                             0.012656                             0.010183   \n",
      "1                             0.012162                             0.010782   \n",
      "2                             0.011483                             0.017162   \n",
      "3                             0.011954                             0.010951   \n",
      "4                             0.014527                             0.013813   \n",
      "\n",
      "   Scored Probabilities for Class \"98\"  Scored Probabilities for Class \"99\"  \\\n",
      "0                             0.022556                             0.011770   \n",
      "1                             0.017496                             0.009593   \n",
      "2                             0.028478                             0.008014   \n",
      "3                             0.017958                             0.009786   \n",
      "4                             0.018784                             0.009510   \n",
      "\n",
      "   Scored Labels  Scored Labels2  Scored Labels3  Scored Labels4  \\\n",
      "0             94              91              28              48   \n",
      "1             91              48              41              18   \n",
      "2             70              56              41              65   \n",
      "3             91              41              48              65   \n",
      "4             91              65              41              48   \n",
      "\n",
      "   Scored Labels5  \n",
      "0              41  \n",
      "1              65  \n",
      "2              98  \n",
      "3              18  \n",
      "4              18  \n",
      "\n",
      "[5 rows x 122 columns]\n"
     ]
    }
   ],
   "source": [
    "i = 0\n",
    "dataframe1 = pd.read_csv(\"C:/Users/vanwu/Desktop/INFO 7390 ADS/Expedia data set/Score/DJ.csv\", header=0, sep=',')\n",
    "\n",
    "for index, row in dataframe1.iterrows():\n",
    "    i1 = row[18:117].argmax()\n",
    "    row[i1] = 0\n",
    "    i2 = row[18:117].argmax()\n",
    "    row[i2] = 0\n",
    "    i3 = row[18:117].argmax()\n",
    "    row[i3] = 0\n",
    "    i4 = row[18:117].argmax()\n",
    "    row[i4] = 0\n",
    "    i5 = row[18:117].argmax()\n",
    "    dataframe1.set_value(i, 'Scored Labels2', getClassNumber(i2))\n",
    "    dataframe1.set_value(i, 'Scored Labels3', getClassNumber(i3))\n",
    "    dataframe1.set_value(i, 'Scored Labels4', getClassNumber(i4))\n",
    "    dataframe1.set_value(i, 'Scored Labels5', getClassNumber(i5))\n",
    "    i = i +1\n",
    "\n",
    "print dataframe1.head(5)\n",
    "dataframe1.to_csv(path_or_buf='C:/Users/vanwu/Desktop/DJ Score.csv', sep=',', na_rep='', header=True)\n"
   ]
  },
  {
   "cell_type": "code",
   "execution_count": 2,
   "metadata": {
    "collapsed": false
   },
   "outputs": [],
   "source": [
    "#Calculate the top 5 hotel clusters based on the model scored results"
   ]
  },
  {
   "cell_type": "code",
   "execution_count": 4,
   "metadata": {
    "collapsed": false
   },
   "outputs": [
    {
     "name": "stdout",
     "output_type": "stream",
     "text": [
      "   site_name  user_location_city  orig_destination_distance  user_id  \\\n",
      "0          2                5938                   456.2658   295241   \n",
      "1         13               26167                 11343.1001    34267   \n",
      "2          2               19207                  1265.1455   566945   \n",
      "3          2               48862                   539.6487   514953   \n",
      "4          2               45689                  2935.2511   346209   \n",
      "\n",
      "   is_mobile  is_package  channel  srch_adults_cnt  srch_children_cnt  \\\n",
      "0          0           0        5                2                  2   \n",
      "1          0           0        9                2                  0   \n",
      "2          1           1        9                0                  0   \n",
      "3          0           0        9                4                  1   \n",
      "4          0           1        1                2                  0   \n",
      "\n",
      "   srch_rm_cnt       ...        Scored Probabilities for Class \"95\"  \\\n",
      "0            1       ...                                   0.014316   \n",
      "1            1       ...                                   0.032097   \n",
      "2            1       ...                                   0.014937   \n",
      "3            4       ...                                   0.017360   \n",
      "4            1       ...                                   0.016602   \n",
      "\n",
      "   Scored Probabilities for Class \"96\"  Scored Probabilities for Class \"97\"  \\\n",
      "0                             0.012946                             0.010935   \n",
      "1                             0.010435                             0.009356   \n",
      "2                             0.009939                             0.020477   \n",
      "3                             0.012859                             0.009633   \n",
      "4                             0.013879                             0.011444   \n",
      "\n",
      "   Scored Probabilities for Class \"98\"  Scored Probabilities for Class \"99\"  \\\n",
      "0                             0.014829                             0.013039   \n",
      "1                             0.015691                             0.008865   \n",
      "2                             0.035461                             0.008744   \n",
      "3                             0.018992                             0.008248   \n",
      "4                             0.014105                             0.010204   \n",
      "\n",
      "   Scored Labels  Scored Labels2  Scored Labels3  Scored Labels4  \\\n",
      "0             94              91              28              48   \n",
      "1             30              37              95              91   \n",
      "2             70              56              41              98   \n",
      "3             91              41              48              18   \n",
      "4             65              91              41              52   \n",
      "\n",
      "   Scored Labels5  \n",
      "0              21  \n",
      "1              72  \n",
      "2              69  \n",
      "3              65  \n",
      "4              18  \n",
      "\n",
      "[5 rows x 122 columns]\n"
     ]
    }
   ],
   "source": [
    "i = 0\n",
    "dataframe1 = pd.read_csv(\"C:/Users/vanwu/Desktop/INFO 7390 ADS/Expedia data set/Score/RF.csv\", header=0, sep=',')\n",
    "\n",
    "for index, row in dataframe1.iterrows():\n",
    "    i1 = row[18:117].argmax()\n",
    "    row[i1] = 0\n",
    "    i2 = row[18:117].argmax()\n",
    "    row[i2] = 0\n",
    "    i3 = row[18:117].argmax()\n",
    "    row[i3] = 0\n",
    "    i4 = row[18:117].argmax()\n",
    "    row[i4] = 0\n",
    "    i5 = row[18:117].argmax()\n",
    "    dataframe1.set_value(i, 'Scored Labels2', getClassNumber(i2))\n",
    "    dataframe1.set_value(i, 'Scored Labels3', getClassNumber(i3))\n",
    "    dataframe1.set_value(i, 'Scored Labels4', getClassNumber(i4))\n",
    "    dataframe1.set_value(i, 'Scored Labels5', getClassNumber(i5))\n",
    "    i = i +1\n",
    "\n",
    "print dataframe1.head(5)\n",
    "dataframe1.to_csv(path_or_buf='C:/Users/vanwu/Desktop/RT Score.csv', sep=',', na_rep='', header=True)"
   ]
  },
  {
   "cell_type": "code",
   "execution_count": 5,
   "metadata": {
    "collapsed": false
   },
   "outputs": [
    {
     "name": "stdout",
     "output_type": "stream",
     "text": [
      "   site_name  user_location_city  orig_destination_distance  user_id  \\\n",
      "0          2                5938                   456.2658   295241   \n",
      "1         13               26167                 11343.1001    34267   \n",
      "2          2               19207                  1265.1455   566945   \n",
      "3          2               48862                   539.6487   514953   \n",
      "4          2               45689                  2935.2511   346209   \n",
      "\n",
      "   is_mobile  is_package  channel  srch_adults_cnt  srch_children_cnt  \\\n",
      "0          0           0        5                2                  2   \n",
      "1          0           0        9                2                  0   \n",
      "2          1           1        9                0                  0   \n",
      "3          0           0        9                4                  1   \n",
      "4          0           1        1                2                  0   \n",
      "\n",
      "   srch_rm_cnt       ...        Scored Probabilities for Class \"95\"  \\\n",
      "0            1       ...                                   0.007500   \n",
      "1            1       ...                                   0.004421   \n",
      "2            1       ...                                   0.007279   \n",
      "3            4       ...                                   0.019340   \n",
      "4            1       ...                                   0.009777   \n",
      "\n",
      "   Scored Probabilities for Class \"96\"  Scored Probabilities for Class \"97\"  \\\n",
      "0                             0.002530                             0.005853   \n",
      "1                             0.001079                             0.015298   \n",
      "2                             0.003266                             0.045696   \n",
      "3                             0.006999                             0.005457   \n",
      "4                             0.017052                             0.026617   \n",
      "\n",
      "   Scored Probabilities for Class \"98\"  Scored Probabilities for Class \"99\"  \\\n",
      "0                             0.082878                             0.008744   \n",
      "1                             0.006160                             0.032576   \n",
      "2                             0.100518                             0.001687   \n",
      "3                             0.012121                             0.004025   \n",
      "4                             0.007980                             0.010874   \n",
      "\n",
      "   Scored Labels  Scored Labels2  Scored Labels3  Scored Labels4  \\\n",
      "0             98              70              41              94   \n",
      "1             58              62              46              64   \n",
      "2             56              70              98              41   \n",
      "3             91              76              16              41   \n",
      "4             92              97               5              44   \n",
      "\n",
      "   Scored Labels5  \n",
      "0              55  \n",
      "1              29  \n",
      "2              55  \n",
      "3              42  \n",
      "4              65  \n",
      "\n",
      "[5 rows x 122 columns]\n"
     ]
    }
   ],
   "source": [
    "i = 0\n",
    "dataframe1 = pd.read_csv(\"C:/Users/vanwu/Desktop/INFO 7390 ADS/Expedia data set/Score/LR.csv\", header=0, sep=',')\n",
    "\n",
    "for index, row in dataframe1.iterrows():\n",
    "    i1 = row[18:117].argmax()\n",
    "    row[i1] = 0\n",
    "    i2 = row[18:117].argmax()\n",
    "    row[i2] = 0\n",
    "    i3 = row[18:117].argmax()\n",
    "    row[i3] = 0\n",
    "    i4 = row[18:117].argmax()\n",
    "    row[i4] = 0\n",
    "    i5 = row[18:117].argmax()\n",
    "    dataframe1.set_value(i, 'Scored Labels2', getClassNumber(i2))\n",
    "    dataframe1.set_value(i, 'Scored Labels3', getClassNumber(i3))\n",
    "    dataframe1.set_value(i, 'Scored Labels4', getClassNumber(i4))\n",
    "    dataframe1.set_value(i, 'Scored Labels5', getClassNumber(i5))\n",
    "    i = i +1\n",
    "\n",
    "print dataframe1.head(5)\n",
    "dataframe1.to_csv(path_or_buf='C:/Users/vanwu/Desktop/LR Score.csv', sep=',', na_rep='', header=True)"
   ]
  },
  {
   "cell_type": "code",
   "execution_count": 12,
   "metadata": {
    "collapsed": false
   },
   "outputs": [
    {
     "name": "stdout",
     "output_type": "stream",
     "text": [
      "   site_name  posa_continent  user_location_city  orig_destination_distance  \\\n",
      "0          2               3                5938                   456.2658   \n",
      "1         13               1               26167                 11343.1001   \n",
      "2          2               3               19207                  1265.1455   \n",
      "3          2               3               48862                   539.6487   \n",
      "4          2               3               45689                  2935.2511   \n",
      "\n",
      "   user_id  is_mobile  is_package  channel  srch_adults_cnt  \\\n",
      "0   295241          0           0        5                2   \n",
      "1    34267          0           0        9                2   \n",
      "2   566945          1           1        9                0   \n",
      "3   514953          0           0        9                4   \n",
      "4   346209          0           1        1                2   \n",
      "\n",
      "   srch_children_cnt       ...        Scored Probabilities for Class \"95\"  \\\n",
      "0                  2       ...                                   0.000064   \n",
      "1                  0       ...                                   0.049694   \n",
      "2                  0       ...                                   0.000019   \n",
      "3                  1       ...                                   0.000187   \n",
      "4                  0       ...                                   0.011804   \n",
      "\n",
      "   Scored Probabilities for Class \"96\"  Scored Probabilities for Class \"97\"  \\\n",
      "0                             0.000006                         1.324408e-06   \n",
      "1                             0.000028                         5.610080e-05   \n",
      "2                             0.005716                         5.771864e-03   \n",
      "3                             0.000012                         2.769108e-07   \n",
      "4                             0.000294                         9.248990e-05   \n",
      "\n",
      "   Scored Probabilities for Class \"98\"  Scored Probabilities for Class \"99\"  \\\n",
      "0                             0.000089                             0.000751   \n",
      "1                             0.000213                             0.026114   \n",
      "2                             0.000312                             0.000496   \n",
      "3                             0.000003                             0.000168   \n",
      "4                             0.000141                             0.009681   \n",
      "\n",
      "   Scored Labels  Scored Labels2  Scored Labels3  Scored Labels4  \\\n",
      "0             53              41              63              17   \n",
      "1             53              57              63              95   \n",
      "2             69              20              55              70   \n",
      "3             76              94              91              28   \n",
      "4             40              21              63              57   \n",
      "\n",
      "   Scored Labels5  \n",
      "0              56  \n",
      "1              12  \n",
      "2              53  \n",
      "3              23  \n",
      "4              22  \n",
      "\n",
      "[5 rows x 123 columns]\n"
     ]
    }
   ],
   "source": [
    "i = 0\n",
    "dataframe1 = pd.read_csv(\"C:/Users/vanwu/Desktop/INFO 7390 ADS/Expedia data set/Score/Boost One for Multi.csv\", header=0, sep=',')\n",
    "\n",
    "for index, row in dataframe1.iterrows():\n",
    "    i1 = row[18:117].argmax()\n",
    "    row[i1] = 0\n",
    "    i2 = row[18:117].argmax()\n",
    "    row[i2] = 0\n",
    "    i3 = row[18:117].argmax()\n",
    "    row[i3] = 0\n",
    "    i4 = row[18:117].argmax()\n",
    "    row[i4] = 0\n",
    "    i5 = row[18:117].argmax()\n",
    "    dataframe1.set_value(i, 'Scored Labels2', getClassNumber(i2))\n",
    "    dataframe1.set_value(i, 'Scored Labels3', getClassNumber(i3))\n",
    "    dataframe1.set_value(i, 'Scored Labels4', getClassNumber(i4))\n",
    "    dataframe1.set_value(i, 'Scored Labels5', getClassNumber(i5))\n",
    "    i = i +1\n",
    "\n",
    "print dataframe1.head(5)\n",
    "dataframe1.to_csv(path_or_buf='C:/Users/vanwu/Desktop/Boost One for Multi Score.csv', sep=',', na_rep='', header=True)"
   ]
  },
  {
   "cell_type": "code",
   "execution_count": 13,
   "metadata": {
    "collapsed": false
   },
   "outputs": [
    {
     "name": "stdout",
     "output_type": "stream",
     "text": [
      "   site_name  posa_continent  user_location_city  orig_destination_distance  \\\n",
      "0          2               3                5938                   456.2658   \n",
      "1         13               1               26167                 11343.1001   \n",
      "2          2               3               19207                  1265.1455   \n",
      "3          2               3               48862                   539.6487   \n",
      "4          2               3               45689                  2935.2511   \n",
      "\n",
      "   user_id  is_mobile  is_package  channel  srch_adults_cnt  \\\n",
      "0   295241          0           0        5                2   \n",
      "1    34267          0           0        9                2   \n",
      "2   566945          1           1        9                0   \n",
      "3   514953          0           0        9                4   \n",
      "4   346209          0           1        1                2   \n",
      "\n",
      "   srch_children_cnt       ...        Scored Probabilities for Class \"95\"  \\\n",
      "0                  2       ...                               7.961740e-09   \n",
      "1                  0       ...                               1.744677e-06   \n",
      "2                  0       ...                               3.359203e-07   \n",
      "3                  1       ...                               1.644718e-06   \n",
      "4                  0       ...                               7.421581e-08   \n",
      "\n",
      "   Scored Probabilities for Class \"96\"  Scored Probabilities for Class \"97\"  \\\n",
      "0                         1.176856e-09                         1.592234e-05   \n",
      "1                         7.430303e-11                         2.428278e-02   \n",
      "2                         3.949981e-06                         1.960018e-04   \n",
      "3                         2.208938e-08                         8.885969e-10   \n",
      "4                         4.139812e-08                         5.147654e-06   \n",
      "\n",
      "   Scored Probabilities for Class \"98\"  Scored Probabilities for Class \"99\"  \\\n",
      "0                         5.370319e-03                         2.558726e-06   \n",
      "1                         1.365765e-02                         4.091712e-06   \n",
      "2                         9.205071e-04                         2.985105e-08   \n",
      "3                         6.200316e-09                         2.729006e-08   \n",
      "4                         5.899671e-09                         1.293861e-07   \n",
      "\n",
      "   Scored Labels  Scored Labels2  Scored Labels3  Scored Labels4  \\\n",
      "0             98              83              70              55   \n",
      "1             97              98              68              58   \n",
      "2             94              98              70              83   \n",
      "3             39              76              94              23   \n",
      "4             80              14              46              91   \n",
      "\n",
      "   Scored Labels5  \n",
      "0              94  \n",
      "1               6  \n",
      "2              97  \n",
      "3              42  \n",
      "4              18  \n",
      "\n",
      "[5 rows x 123 columns]\n"
     ]
    }
   ],
   "source": [
    "i = 0\n",
    "dataframe1 = pd.read_csv(\"C:/Users/vanwu/Desktop/INFO 7390 ADS/Expedia data set/Score/NN.csv\", header=0, sep=',')\n",
    "\n",
    "for index, row in dataframe1.iterrows():\n",
    "    i1 = row[18:117].argmax()\n",
    "    row[i1] = 0\n",
    "    i2 = row[18:117].argmax()\n",
    "    row[i2] = 0\n",
    "    i3 = row[18:117].argmax()\n",
    "    row[i3] = 0\n",
    "    i4 = row[18:117].argmax()\n",
    "    row[i4] = 0\n",
    "    i5 = row[18:117].argmax()\n",
    "    dataframe1.set_value(i, 'Scored Labels2', getClassNumber(i2))\n",
    "    dataframe1.set_value(i, 'Scored Labels3', getClassNumber(i3))\n",
    "    dataframe1.set_value(i, 'Scored Labels4', getClassNumber(i4))\n",
    "    dataframe1.set_value(i, 'Scored Labels5', getClassNumber(i5))\n",
    "    i = i +1\n",
    "\n",
    "print dataframe1.head(5)\n",
    "dataframe1.to_csv(path_or_buf='C:/Users/vanwu/Desktop/NN Score.csv', sep=',', na_rep='', header=True)"
   ]
  },
  {
   "cell_type": "code",
   "execution_count": null,
   "metadata": {
    "collapsed": true
   },
   "outputs": [],
   "source": []
  }
 ],
 "metadata": {
  "kernelspec": {
   "display_name": "Python 2",
   "language": "python",
   "name": "python2"
  },
  "language_info": {
   "codemirror_mode": {
    "name": "ipython",
    "version": 2
   },
   "file_extension": ".py",
   "mimetype": "text/x-python",
   "name": "python",
   "nbconvert_exporter": "python",
   "pygments_lexer": "ipython2",
   "version": "2.7.11"
  }
 },
 "nbformat": 4,
 "nbformat_minor": 0
}
